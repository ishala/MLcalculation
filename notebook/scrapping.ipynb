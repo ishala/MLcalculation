{
 "cells": [
  {
   "cell_type": "code",
   "execution_count": 1,
   "id": "030d8575",
   "metadata": {},
   "outputs": [],
   "source": [
    "from selenium import webdriver\n",
    "from selenium.webdriver.chrome.options import Options\n",
    "from bs4 import BeautifulSoup\n",
    "import time\n",
    "import pandas as pd\n",
    "\n",
    "# Setup headless Chrome\n",
    "options = Options()\n",
    "options.add_argument('--headless')\n",
    "options.add_argument('--no-sandbox')\n",
    "options.add_argument('--disable-dev-shm-usage')\n",
    "\n",
    "# Ganti path dengan lokasi chromedriver kamu\n",
    "driver = webdriver.Chrome(options=options)"
   ]
  },
  {
   "cell_type": "code",
   "execution_count": 5,
   "id": "af330ef8",
   "metadata": {},
   "outputs": [],
   "source": [
    "# Ganti URL di bawah dengan URL web target sebenarnya\n",
    "# url = \"https://mlbb.gg/statistics\"\n",
    "url = \"https://mobile-legends.fandom.com/wiki/List_of_heroes\"\n",
    "\n",
    "driver.get(url)\n",
    "\n",
    "# Fungsi untuk scroll ke bawah sampai mentok\n",
    "def scroll_to_bottom(driver, pause_time=2):\n",
    "    last_height = driver.execute_script(\"return document.body.scrollHeight\")\n",
    "    \n",
    "    while True:\n",
    "        # Scroll ke bawah\n",
    "        driver.execute_script(\"window.scrollTo(0, document.body.scrollHeight);\")\n",
    "        \n",
    "        # Tunggu loading selesai\n",
    "        time.sleep(pause_time)\n",
    "        \n",
    "        # Cek tinggi halaman setelah scroll\n",
    "        new_height = driver.execute_script(\"return document.body.scrollHeight\")\n",
    "        if new_height == last_height:\n",
    "            break  # Sudah sampai bawah\n",
    "        last_height = new_height\n",
    "\n",
    "# Scroll hingga semua data termuat\n",
    "scroll_to_bottom(driver)\n",
    "\n",
    "# Tunggu tambahan jika perlu\n",
    "time.sleep(3)\n",
    "\n",
    "# Ambil halaman setelah scroll selesai\n",
    "soup = BeautifulSoup(driver.page_source, 'html.parser')\n",
    "driver.quit()"
   ]
  },
  {
   "cell_type": "code",
   "execution_count": null,
   "id": "f5717df4",
   "metadata": {},
   "outputs": [],
   "source": [
    "# Cari elemen <table>\n",
    "table = soup.find('table')\n",
    "\n",
    "# Ambil header (thead)\n",
    "thead = table.find('thead')\n",
    "header = []\n",
    "if thead:\n",
    "    ths = thead.find_all('th')\n",
    "    for th in ths:\n",
    "        # Ambil teks dalam <th> (bisa dari dalam div juga)\n",
    "        text = th.get_text(strip=True)\n",
    "        header.append(text)\n",
    "else:\n",
    "    print(\"Tidak ditemukan elemen <thead>\")\n",
    "\n",
    "# Ambil isi baris (tbody)\n",
    "tbody = table.find('tbody')\n",
    "rows_data = []\n",
    "if tbody:\n",
    "    rows = tbody.find_all('tr')\n",
    "    for row in rows:\n",
    "        cols = row.find_all('td')\n",
    "        row_text = [col.get_text(strip=True) for col in cols]\n",
    "        rows_data.append(row_text)\n",
    "else:\n",
    "    print(\"Tidak ditemukan elemen <tbody>\")\n",
    "\n",
    "# Tampilkan hasil (opsional: simpan ke DataFrame atau CSV)\n",
    "df = pd.DataFrame(rows_data, columns=header)\n",
    "print(df)\n",
    "\n",
    "# Simpan ke CSV (opsional)\n",
    "# df.to_csv(\"data/data_heroes.csv\", index=False)\n",
    "# df.to_csv(\"data/data_heroes_2.csv\", index=False)"
   ]
  },
  {
   "cell_type": "markdown",
   "id": "42239579",
   "metadata": {},
   "source": [
    "## Integrasi Data Lama"
   ]
  },
  {
   "cell_type": "code",
   "execution_count": null,
   "id": "83456856",
   "metadata": {},
   "outputs": [],
   "source": [
    "# data_fix = pd.read_csv('../data/fix.csv', encoding='windows-1252')\n",
    "# data_hero_1 = pd.read_csv('../data/data_heroes.csv', encoding='windows-1252')"
   ]
  },
  {
   "cell_type": "code",
   "execution_count": null,
   "id": "3b8135b0",
   "metadata": {},
   "outputs": [
    {
     "data": {
      "text/html": [
       "<div>\n",
       "<style scoped>\n",
       "    .dataframe tbody tr th:only-of-type {\n",
       "        vertical-align: middle;\n",
       "    }\n",
       "\n",
       "    .dataframe tbody tr th {\n",
       "        vertical-align: top;\n",
       "    }\n",
       "\n",
       "    .dataframe thead th {\n",
       "        text-align: right;\n",
       "    }\n",
       "</style>\n",
       "<table border=\"1\" class=\"dataframe\">\n",
       "  <thead>\n",
       "    <tr style=\"text-align: right;\">\n",
       "      <th></th>\n",
       "      <th>Hero Name</th>\n",
       "      <th>Tier</th>\n",
       "    </tr>\n",
       "  </thead>\n",
       "  <tbody>\n",
       "    <tr>\n",
       "      <th>113</th>\n",
       "      <td>Uranus</td>\n",
       "      <td>D</td>\n",
       "    </tr>\n",
       "    <tr>\n",
       "      <th>2</th>\n",
       "      <td>Aldous</td>\n",
       "      <td>D</td>\n",
       "    </tr>\n",
       "    <tr>\n",
       "      <th>89</th>\n",
       "      <td>Minsitthar</td>\n",
       "      <td>C</td>\n",
       "    </tr>\n",
       "    <tr>\n",
       "      <th>77</th>\n",
       "      <td>Lesley</td>\n",
       "      <td>D</td>\n",
       "    </tr>\n",
       "    <tr>\n",
       "      <th>57</th>\n",
       "      <td>Hylos</td>\n",
       "      <td>C</td>\n",
       "    </tr>\n",
       "    <tr>\n",
       "      <th>62</th>\n",
       "      <td>Joy</td>\n",
       "      <td>S</td>\n",
       "    </tr>\n",
       "    <tr>\n",
       "      <th>119</th>\n",
       "      <td>X.Borg</td>\n",
       "      <td>D</td>\n",
       "    </tr>\n",
       "    <tr>\n",
       "      <th>114</th>\n",
       "      <td>Vale</td>\n",
       "      <td>C</td>\n",
       "    </tr>\n",
       "    <tr>\n",
       "      <th>10</th>\n",
       "      <td>Aulus</td>\n",
       "      <td>C</td>\n",
       "    </tr>\n",
       "    <tr>\n",
       "      <th>107</th>\n",
       "      <td>Silvanna</td>\n",
       "      <td>D</td>\n",
       "    </tr>\n",
       "  </tbody>\n",
       "</table>\n",
       "</div>"
      ],
      "text/plain": [
       "      Hero Name Tier\n",
       "113      Uranus    D\n",
       "2        Aldous    D\n",
       "89   Minsitthar    C\n",
       "77       Lesley    D\n",
       "57        Hylos    C\n",
       "62          Joy    S\n",
       "119      X.Borg    D\n",
       "114        Vale    C\n",
       "10        Aulus    C\n",
       "107    Silvanna    D"
      ]
     },
     "execution_count": 15,
     "metadata": {},
     "output_type": "execute_result"
    }
   ],
   "source": [
    "# # Lakukan merge dengan outer agar semua data masuk (baik dari kiri atau kanan)\n",
    "# data_fix_cp = data_fix.merge(\n",
    "#     data_hero_1[['Hero', 'Win rate', 'Pick rate', 'Ban rate']],\n",
    "#     how='outer',\n",
    "#     left_on='Hero Name',\n",
    "#     right_on='Hero'\n",
    "# )\n",
    "\n",
    "# # Jika kolom 'Hero Name' kosong, gunakan nilai dari kolom 'Hero'\n",
    "# data_fix_cp['Hero Name'] = data_fix_cp['Hero Name'].combine_first(data_fix_cp['Hero'])\n",
    "\n",
    "# data_fix_cp.drop(columns=['Hero','Win Rate (%)', 'Popularity (%)', 'Ban Rate (%)'], inplace=True, axis=1)\n",
    "\n",
    "# # Ganti nama kolom hasil merge\n",
    "# data_fix_cp.rename(columns={\n",
    "#     'Win rate': 'Win Rate (%)',\n",
    "#     'Pick rate': 'Popularity (%)',\n",
    "#     'Ban rate': 'Ban Rate (%)',\n",
    "# }, inplace=True)\n",
    "\n",
    "# # # Hapus kolom 'Hero' jika sudah tidak perlu\n",
    "# # data_fix_cp.drop(columns='Hero', inplace=True)\n",
    "\n",
    "# # # Optional: Reset index jika perlu\n",
    "# data_fix_cp.reset_index(drop=True, inplace=True)"
   ]
  },
  {
   "cell_type": "markdown",
   "id": "ddf881b9",
   "metadata": {},
   "source": [
    "## Pengkalian Kolom Baru"
   ]
  },
  {
   "cell_type": "code",
   "execution_count": null,
   "id": "429c9a49",
   "metadata": {},
   "outputs": [],
   "source": [
    "# data_fix_cp['Ban Rate (%)'] = (data_fix_cp['Ban Rate (%)'] * 100).astype(int)\n",
    "# data_fix_cp['Win Rate (%)'] = (data_fix_cp['Win Rate (%)'] * 100).astype(int)\n",
    "# data_fix_cp['Popularity (%)'] = (data_fix_cp['Popularity (%)'] * 100).astype(int)"
   ]
  },
  {
   "cell_type": "code",
   "execution_count": null,
   "id": "c16cf2a7",
   "metadata": {},
   "outputs": [],
   "source": [
    "# data_fix_cp.to_csv('../data/new_fix.csv', index=False)"
   ]
  },
  {
   "cell_type": "markdown",
   "id": "9a0f7403",
   "metadata": {},
   "source": [
    "## Update Tier Data"
   ]
  },
  {
   "cell_type": "code",
   "execution_count": 2,
   "id": "15e701de",
   "metadata": {},
   "outputs": [],
   "source": [
    "fix_updated = pd.read_excel('../data/new_fix.xlsx')\n",
    "data_hero_1 = pd.read_csv('../data/data_heroes.csv', encoding='windows-1252')"
   ]
  },
  {
   "cell_type": "code",
   "execution_count": 3,
   "id": "ddbb65c9",
   "metadata": {},
   "outputs": [],
   "source": [
    "data_fix_cp = fix_updated.merge(\n",
    "    data_hero_1[['Hero','Tier']],\n",
    "    how='outer',\n",
    "    left_on='Hero Name',\n",
    "    right_on='Hero'\n",
    ")\n",
    "\n",
    "data_fix_cp['Hero Name'] = data_fix_cp['Hero Name'].combine_first(data_fix_cp['Hero'])\n",
    "\n",
    "data_fix_cp.drop(columns='Tier Old', inplace=True)\n",
    "\n",
    "data_fix_cp.reset_index(drop=True, inplace=True)"
   ]
  },
  {
   "cell_type": "code",
   "execution_count": 4,
   "id": "52689395",
   "metadata": {},
   "outputs": [],
   "source": [
    "data_fix_cp.to_csv('../data/fix.csv', index=False)"
   ]
  },
  {
   "cell_type": "code",
   "execution_count": 5,
   "id": "2341a5b8",
   "metadata": {},
   "outputs": [
    {
     "data": {
      "text/plain": [
       "Hero Name                     0\n",
       "Hero ID                       0\n",
       "Roles                         0\n",
       "Specialties                   0\n",
       "Recommended Lane              0\n",
       "Second Lane                 108\n",
       "Release year                  0\n",
       "Meta                          0\n",
       "Difficulty                    0\n",
       "Durability Rating             0\n",
       "Ability Effects Rating        0\n",
       "Offense Rating                0\n",
       "Scaling Rating                0\n",
       "Cooldown Rating               0\n",
       "Item Dependency Rating        0\n",
       "Mobility Rating               0\n",
       "Crowd Control Rating          0\n",
       "Base Stats Growth Rating      0\n",
       "Ultimate Impact Rating        0\n",
       "Column1                       0\n",
       "Gameplay                      0\n",
       "Sinergi                       0\n",
       "Win Rate (%)                  0\n",
       "Popularity (%)                0\n",
       "Ban Rate (%)                  0\n",
       "Hero                          0\n",
       "Tier                          0\n",
       "dtype: int64"
      ]
     },
     "execution_count": 5,
     "metadata": {},
     "output_type": "execute_result"
    }
   ],
   "source": [
    "data_fix_cp.isnull().sum()"
   ]
  }
 ],
 "metadata": {
  "kernelspec": {
   "display_name": "tokek",
   "language": "python",
   "name": "python3"
  },
  "language_info": {
   "codemirror_mode": {
    "name": "ipython",
    "version": 3
   },
   "file_extension": ".py",
   "mimetype": "text/x-python",
   "name": "python",
   "nbconvert_exporter": "python",
   "pygments_lexer": "ipython3",
   "version": "3.9.22"
  }
 },
 "nbformat": 4,
 "nbformat_minor": 5
}
